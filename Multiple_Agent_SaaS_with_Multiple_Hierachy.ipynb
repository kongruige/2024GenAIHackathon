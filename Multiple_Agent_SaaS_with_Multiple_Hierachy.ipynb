{
 "cells": [
  {
   "cell_type": "markdown",
   "metadata": {
    "id": "Wtsz2UXJbFrx"
   },
   "source": [
    "# Mount Drive and Define Directory"
   ]
  },
  {
   "cell_type": "code",
   "execution_count": 1,
   "metadata": {
    "colab": {
     "base_uri": "https://localhost:8080/",
     "height": 321
    },
    "executionInfo": {
     "elapsed": 2443,
     "status": "error",
     "timestamp": 1709463391326,
     "user": {
      "displayName": "Ruige Kong",
      "userId": "04931510989160882304"
     },
     "user_tz": 0
    },
    "id": "UV99sAQnBomA",
    "outputId": "132dbb8d-ba06-483f-be76-68f7a25528fc"
   },
   "outputs": [
    {
     "ename": "MessageError",
     "evalue": "Error: credential propagation was unsuccessful",
     "output_type": "error",
     "traceback": [
      "\u001b[0;31m---------------------------------------------------------------------------\u001b[0m",
      "\u001b[0;31mMessageError\u001b[0m                              Traceback (most recent call last)",
      "\u001b[0;32m<ipython-input-1-d5df0069828e>\u001b[0m in \u001b[0;36m<cell line: 2>\u001b[0;34m()\u001b[0m\n\u001b[1;32m      1\u001b[0m \u001b[0;32mfrom\u001b[0m \u001b[0mgoogle\u001b[0m\u001b[0;34m.\u001b[0m\u001b[0mcolab\u001b[0m \u001b[0;32mimport\u001b[0m \u001b[0mdrive\u001b[0m\u001b[0;34m\u001b[0m\u001b[0;34m\u001b[0m\u001b[0m\n\u001b[0;32m----> 2\u001b[0;31m \u001b[0mdrive\u001b[0m\u001b[0;34m.\u001b[0m\u001b[0mmount\u001b[0m\u001b[0;34m(\u001b[0m\u001b[0;34m'/content/drive'\u001b[0m\u001b[0;34m)\u001b[0m\u001b[0;34m\u001b[0m\u001b[0;34m\u001b[0m\u001b[0m\n\u001b[0m",
      "\u001b[0;32m/usr/local/lib/python3.10/dist-packages/google/colab/drive.py\u001b[0m in \u001b[0;36mmount\u001b[0;34m(mountpoint, force_remount, timeout_ms, readonly)\u001b[0m\n\u001b[1;32m     98\u001b[0m \u001b[0;32mdef\u001b[0m \u001b[0mmount\u001b[0m\u001b[0;34m(\u001b[0m\u001b[0mmountpoint\u001b[0m\u001b[0;34m,\u001b[0m \u001b[0mforce_remount\u001b[0m\u001b[0;34m=\u001b[0m\u001b[0;32mFalse\u001b[0m\u001b[0;34m,\u001b[0m \u001b[0mtimeout_ms\u001b[0m\u001b[0;34m=\u001b[0m\u001b[0;36m120000\u001b[0m\u001b[0;34m,\u001b[0m \u001b[0mreadonly\u001b[0m\u001b[0;34m=\u001b[0m\u001b[0;32mFalse\u001b[0m\u001b[0;34m)\u001b[0m\u001b[0;34m:\u001b[0m\u001b[0;34m\u001b[0m\u001b[0;34m\u001b[0m\u001b[0m\n\u001b[1;32m     99\u001b[0m   \u001b[0;34m\"\"\"Mount your Google Drive at the specified mountpoint path.\"\"\"\u001b[0m\u001b[0;34m\u001b[0m\u001b[0;34m\u001b[0m\u001b[0m\n\u001b[0;32m--> 100\u001b[0;31m   return _mount(\n\u001b[0m\u001b[1;32m    101\u001b[0m       \u001b[0mmountpoint\u001b[0m\u001b[0;34m,\u001b[0m\u001b[0;34m\u001b[0m\u001b[0;34m\u001b[0m\u001b[0m\n\u001b[1;32m    102\u001b[0m       \u001b[0mforce_remount\u001b[0m\u001b[0;34m=\u001b[0m\u001b[0mforce_remount\u001b[0m\u001b[0;34m,\u001b[0m\u001b[0;34m\u001b[0m\u001b[0;34m\u001b[0m\u001b[0m\n",
      "\u001b[0;32m/usr/local/lib/python3.10/dist-packages/google/colab/drive.py\u001b[0m in \u001b[0;36m_mount\u001b[0;34m(mountpoint, force_remount, timeout_ms, ephemeral, readonly)\u001b[0m\n\u001b[1;32m    131\u001b[0m   )\n\u001b[1;32m    132\u001b[0m   \u001b[0;32mif\u001b[0m \u001b[0mephemeral\u001b[0m\u001b[0;34m:\u001b[0m\u001b[0;34m\u001b[0m\u001b[0;34m\u001b[0m\u001b[0m\n\u001b[0;32m--> 133\u001b[0;31m     _message.blocking_request(\n\u001b[0m\u001b[1;32m    134\u001b[0m         \u001b[0;34m'request_auth'\u001b[0m\u001b[0;34m,\u001b[0m \u001b[0mrequest\u001b[0m\u001b[0;34m=\u001b[0m\u001b[0;34m{\u001b[0m\u001b[0;34m'authType'\u001b[0m\u001b[0;34m:\u001b[0m \u001b[0;34m'dfs_ephemeral'\u001b[0m\u001b[0;34m}\u001b[0m\u001b[0;34m,\u001b[0m \u001b[0mtimeout_sec\u001b[0m\u001b[0;34m=\u001b[0m\u001b[0;32mNone\u001b[0m\u001b[0;34m\u001b[0m\u001b[0;34m\u001b[0m\u001b[0m\n\u001b[1;32m    135\u001b[0m     )\n",
      "\u001b[0;32m/usr/local/lib/python3.10/dist-packages/google/colab/_message.py\u001b[0m in \u001b[0;36mblocking_request\u001b[0;34m(request_type, request, timeout_sec, parent)\u001b[0m\n\u001b[1;32m    174\u001b[0m       \u001b[0mrequest_type\u001b[0m\u001b[0;34m,\u001b[0m \u001b[0mrequest\u001b[0m\u001b[0;34m,\u001b[0m \u001b[0mparent\u001b[0m\u001b[0;34m=\u001b[0m\u001b[0mparent\u001b[0m\u001b[0;34m,\u001b[0m \u001b[0mexpect_reply\u001b[0m\u001b[0;34m=\u001b[0m\u001b[0;32mTrue\u001b[0m\u001b[0;34m\u001b[0m\u001b[0;34m\u001b[0m\u001b[0m\n\u001b[1;32m    175\u001b[0m   )\n\u001b[0;32m--> 176\u001b[0;31m   \u001b[0;32mreturn\u001b[0m \u001b[0mread_reply_from_input\u001b[0m\u001b[0;34m(\u001b[0m\u001b[0mrequest_id\u001b[0m\u001b[0;34m,\u001b[0m \u001b[0mtimeout_sec\u001b[0m\u001b[0;34m)\u001b[0m\u001b[0;34m\u001b[0m\u001b[0;34m\u001b[0m\u001b[0m\n\u001b[0m",
      "\u001b[0;32m/usr/local/lib/python3.10/dist-packages/google/colab/_message.py\u001b[0m in \u001b[0;36mread_reply_from_input\u001b[0;34m(message_id, timeout_sec)\u001b[0m\n\u001b[1;32m    101\u001b[0m     ):\n\u001b[1;32m    102\u001b[0m       \u001b[0;32mif\u001b[0m \u001b[0;34m'error'\u001b[0m \u001b[0;32min\u001b[0m \u001b[0mreply\u001b[0m\u001b[0;34m:\u001b[0m\u001b[0;34m\u001b[0m\u001b[0;34m\u001b[0m\u001b[0m\n\u001b[0;32m--> 103\u001b[0;31m         \u001b[0;32mraise\u001b[0m \u001b[0mMessageError\u001b[0m\u001b[0;34m(\u001b[0m\u001b[0mreply\u001b[0m\u001b[0;34m[\u001b[0m\u001b[0;34m'error'\u001b[0m\u001b[0;34m]\u001b[0m\u001b[0;34m)\u001b[0m\u001b[0;34m\u001b[0m\u001b[0;34m\u001b[0m\u001b[0m\n\u001b[0m\u001b[1;32m    104\u001b[0m       \u001b[0;32mreturn\u001b[0m \u001b[0mreply\u001b[0m\u001b[0;34m.\u001b[0m\u001b[0mget\u001b[0m\u001b[0;34m(\u001b[0m\u001b[0;34m'data'\u001b[0m\u001b[0;34m,\u001b[0m \u001b[0;32mNone\u001b[0m\u001b[0;34m)\u001b[0m\u001b[0;34m\u001b[0m\u001b[0;34m\u001b[0m\u001b[0m\n\u001b[1;32m    105\u001b[0m \u001b[0;34m\u001b[0m\u001b[0m\n",
      "\u001b[0;31mMessageError\u001b[0m: Error: credential propagation was unsuccessful"
     ]
    }
   ],
   "source": [
    "from google.colab import drive\n",
    "drive.mount('/content/drive')\n"
   ]
  },
  {
   "cell_type": "code",
   "execution_count": null,
   "metadata": {
    "executionInfo": {
     "elapsed": 3,
     "status": "aborted",
     "timestamp": 1709463391327,
     "user": {
      "displayName": "Ruige Kong",
      "userId": "04931510989160882304"
     },
     "user_tz": 0
    },
    "id": "ag1qaShla4Pw"
   },
   "outputs": [],
   "source": [
    "import os\n",
    "\n",
    "base_dir = '/content/drive/MyDrive/2024 Cambridge Hackathon'\n",
    "context_dir = os.path.join(base_dir, 'context')"
   ]
  },
  {
   "cell_type": "markdown",
   "metadata": {
    "id": "FASBj6OcbhY3"
   },
   "source": [
    "set environmental variable"
   ]
  },
  {
   "cell_type": "code",
   "execution_count": null,
   "metadata": {
    "executionInfo": {
     "elapsed": 3,
     "status": "aborted",
     "timestamp": 1709463391327,
     "user": {
      "displayName": "Ruige Kong",
      "userId": "04931510989160882304"
     },
     "user_tz": 0
    },
    "id": "X9DVm4Cxbg0s"
   },
   "outputs": [],
   "source": [
    "os.environ[\"OPENAI_API_KEY\"] = \"YOUR KEY\""
   ]
  },
  {
   "cell_type": "markdown",
   "metadata": {
    "id": "Fudy1XlpbqRT"
   },
   "source": [
    "# Generate Project Structure in JSON format"
   ]
  },
  {
   "cell_type": "code",
   "execution_count": null,
   "metadata": {
    "id": "y3af5OH5cDQk"
   },
   "outputs": [],
   "source": [
    "%%capture\n",
    "!pip install openai"
   ]
  },
  {
   "cell_type": "code",
   "execution_count": null,
   "metadata": {
    "id": "_4ZK1LpBiNEr"
   },
   "outputs": [],
   "source": [
    "task = \"\"\"\n",
    "Your task is to collaboratively design and implement a simple, yet functional machine learning package. This package should focus on providing basic functionalities for linear regression, including model training, prediction, and evaluation. Here are the detailed requirements for the package:\n",
    "\n",
    "Model Training: Implement a function that accepts training data (features and target values) and learns the coefficients for a linear regression model.\n",
    "Prediction: Develop a function that takes new data (features) and the learned model coefficients to predict target values.\n",
    "Evaluation: Create a function to evaluate the model's performance using appropriate metrics, such as Mean Squared Error (MSE) or R-squared.\n",
    "Please ensure the following as you work on this package:\n",
    "\n",
    "The code should be written in Python.\n",
    "Use only basic Python libraries (e.g., numpy for calculations) to keep the package lightweight. Avoid using high-level machine learning frameworks like scikit-learn or TensorFlow for this task.\n",
    "Include comments and documentation within the code to explain the purpose and usage of each function.\n",
    "Strive for efficiency and simplicity in your implementation, making the package user-friendly for beginners in machine learning.\n",
    "This package aims to serve as a foundational tool for educational purposes, helping users understand the mechanics of linear regression through hands-on experience.\n",
    "\"\"\""
   ]
  },
  {
   "cell_type": "code",
   "execution_count": null,
   "metadata": {
    "id": "aCETIB-_bI57"
   },
   "outputs": [],
   "source": [
    "from openai import OpenAI\n",
    "client = OpenAI()\n",
    "\n",
    "response = client.chat.completions.create(\n",
    "  model=\"gpt-3.5-turbo-0125\",\n",
    "  messages=[\n",
    "    {\n",
    "      \"role\": \"system\",\n",
    "      \"content\": \"Given the user's requirement for a Python project, please generate the project structure in JSON format. The project should include an initialization file, a main script, a utility file with a function that takes two parameters, a configuration file, and a documentation file.\\\"\\n\\nExample output:\\n\\n{\\n  \\\"name\\\": \\\"simple_project\\\",\\n  \\\"type\\\": \\\"directory\\\",\\n  \\\"content\\\": [\\n    {\\n      \\\"name\\\": \\\"__init__.py\\\",\\n      \\\"type\\\": \\\"file\\\",\\n      \\\"description\\\": \\\"Initialization code.\\\"\\n    },\\n    {\\n      \\\"name\\\": \\\"main.py\\\",\\n      \\\"type\\\": \\\"file\\\",\\n      \\\"description\\\": \\\"Main script.\\\"\\n    },\\n    {\\n      \\\"name\\\": \\\"utils.py\\\",\\n      \\\"type\\\": \\\"file\\\",\\n      \\\"description\\\": \\\"Utility functions.\\\",\\n      \\\"functions\\\": [\\n        {\\n          \\\"name\\\": \\\"do_something\\\",\\n          \\\"description\\\": \\\"Function to perform something.\\\",\\n          \\\"parameters\\\": [\\n            {\\\"name\\\": \\\"param1\\\", \\\"type\\\": \\\"int\\\"},\\n            {\\\"name\\\": \\\"param2\\\", \\\"type\\\": \\\"str\\\"}\\n          ]\\n        }\\n      ]\\n    },\\n    {\\n      \\\"name\\\": \\\"config.json\\\",\\n      \\\"type\\\": \\\"file\\\",\\n      \\\"description\\\": \\\"Configuration file.\\\"\\n    },\\n    {\\n      \\\"name\\\": \\\"README.md\\\",\\n      \\\"type\\\": \\\"file\\\",\\n      \\\"description\\\": \\\"Documentation.\\\"\\n    }\\n  ]\\n}\\n\\nPlease note that the structure of the project can be modified according to the user's requirements.\"\n",
    "    },\n",
    "    {\n",
    "      \"role\": \"user\",\n",
    "      \"content\": task\n",
    "    }\n",
    "  ],\n",
    "  temperature=0,\n",
    "  max_tokens=1024,\n",
    "  top_p=1,\n",
    "  frequency_penalty=0,\n",
    "  presence_penalty=0\n",
    ")"
   ]
  },
  {
   "cell_type": "code",
   "execution_count": null,
   "metadata": {
    "colab": {
     "base_uri": "https://localhost:8080/"
    },
    "executionInfo": {
     "elapsed": 215,
     "status": "ok",
     "timestamp": 1709423553550,
     "user": {
      "displayName": "Matthew Zhang",
      "userId": "02723002670783510319"
     },
     "user_tz": 0
    },
    "id": "PiKoBOfOcLNt",
    "outputId": "26dd451a-988c-4e88-8061-627746e4e71b"
   },
   "outputs": [
    {
     "name": "stdout",
     "output_type": "stream",
     "text": [
      "{\n",
      "  \"name\": \"ml_library\",\n",
      "  \"type\": \"directory\",\n",
      "  \"content\": [\n",
      "    {\n",
      "      \"name\": \"__init__.py\",\n",
      "      \"type\": \"file\",\n",
      "      \"description\": \"Initialization code.\"\n",
      "    },\n",
      "    {\n",
      "      \"name\": \"main.py\",\n",
      "      \"type\": \"file\",\n",
      "      \"description\": \"Main script to demonstrate linear regression and plotting functionality.\"\n",
      "    },\n",
      "    {\n",
      "      \"name\": \"utils.py\",\n",
      "      \"type\": \"file\",\n",
      "      \"description\": \"Utility functions for linear regression and plotting.\",\n",
      "      \"functions\": [\n",
      "        {\n",
      "          \"name\": \"linear_regression\",\n",
      "          \"description\": \"Function to perform linear regression using numpy.\",\n",
      "          \"parameters\": [\n",
      "            {\"name\": \"X\", \"type\": \"numpy array\", \"description\": \"Input features\"},\n",
      "            {\"name\": \"y\", \"type\": \"numpy array\", \"description\": \"Target values\"}\n",
      "          ]\n",
      "        },\n",
      "        {\n",
      "          \"name\": \"plot_regression_line\",\n",
      "          \"description\": \"Function to plot the regression line using matplotlib.\",\n",
      "          \"parameters\": [\n",
      "            {\"name\": \"X\", \"type\": \"numpy array\", \"description\": \"Input features\"},\n",
      "            {\"name\": \"y\", \"type\": \"numpy array\", \"description\": \"Target values\"},\n",
      "            {\"name\": \"slope\", \"type\": \"float\", \"description\": \"Slope of the regression line\"},\n",
      "            {\"name\": \"intercept\", \"type\": \"float\", \"description\": \"Intercept of the regression line\"}\n",
      "          ]\n",
      "        }\n",
      "      ]\n",
      "    },\n",
      "    {\n",
      "      \"name\": \"config.json\",\n",
      "      \"type\": \"file\",\n",
      "      \"description\": \"Configuration file for the ML library.\"\n",
      "    },\n",
      "    {\n",
      "      \"name\": \"README.md\",\n",
      "      \"type\": \"file\",\n",
      "      \"description\": \"Documentation for the ML library.\"\n",
      "    }\n",
      "  ]\n",
      "}\n"
     ]
    }
   ],
   "source": [
    "print(response.choices[0].message.content)"
   ]
  },
  {
   "cell_type": "markdown",
   "metadata": {
    "id": "_ayL5ywlbzsS"
   },
   "source": [
    "# Parse the code structure json into commands"
   ]
  },
  {
   "cell_type": "code",
   "execution_count": null,
   "metadata": {
    "id": "ONOfkRy5b5xj"
   },
   "outputs": [],
   "source": [
    "import json\n",
    "\n",
    "# Example usage\n",
    "my_project_json = response.choices[0].message.content\n",
    "my_project = json.loads(my_project_json)"
   ]
  },
  {
   "cell_type": "markdown",
   "metadata": {
    "id": "FeVY6vGdesrn"
   },
   "source": [
    "# Add code implementation for each python file"
   ]
  },
  {
   "cell_type": "code",
   "execution_count": null,
   "metadata": {
    "id": "P7N_ctFCeyp3"
   },
   "outputs": [],
   "source": [
    "# This is the part which we can replace with the Multi-agent -- providing actor-criticed code snippets.\n",
    "\n",
    "def implement_code(requirements:dict)->dict:\n",
    "    client = OpenAI()\n",
    "\n",
    "    response = client.chat.completions.create(\n",
    "      model=\"gpt-3.5-turbo-0125\",\n",
    "      messages=[\n",
    "        {\n",
    "          \"role\": \"system\",\n",
    "          \"content\": \"Given the user's requirement for a Python Script, please generate the code. You shall also include docstrings and unit tests in the script. Ensure that the generated code does not include code blocks (```), only raw code\"\n",
    "        },\n",
    "        {\n",
    "          \"role\": \"user\",\n",
    "          \"content\": json.dumps(requirements) # dump the dictionary into json.\n",
    "        }\n",
    "      ],\n",
    "      temperature=0,\n",
    "      max_tokens=1024,\n",
    "      top_p=1,\n",
    "      frequency_penalty=0,\n",
    "      presence_penalty=0\n",
    "    )\n",
    "\n",
    "    code = response.choices[0].message.content\n",
    "    return code\n"
   ]
  },
  {
   "cell_type": "code",
   "execution_count": null,
   "metadata": {
    "id": "6gjiBEJ0hyRV"
   },
   "outputs": [],
   "source": [
    "def add_code_attribute(node):\n",
    "    \"\"\"\n",
    "    Recursively traverse all python file in the code structure.\n",
    "    \"\"\"\n",
    "\n",
    "    if node[\"type\"] == \"file\" and node[\"name\"].endswith(\".py\"):\n",
    "        node[\"code\"] = implement_code(node)\n",
    "\n",
    "    if \"content\" in node:\n",
    "        for child in node[\"content\"]:\n",
    "            add_code_attribute(child)"
   ]
  },
  {
   "cell_type": "code",
   "execution_count": null,
   "metadata": {
    "id": "5BVDVPaZkZny"
   },
   "outputs": [],
   "source": [
    "add_code_attribute(my_project)"
   ]
  },
  {
   "cell_type": "code",
   "execution_count": null,
   "metadata": {
    "colab": {
     "base_uri": "https://localhost:8080/"
    },
    "executionInfo": {
     "elapsed": 243,
     "status": "ok",
     "timestamp": 1709424040601,
     "user": {
      "displayName": "Matthew Zhang",
      "userId": "02723002670783510319"
     },
     "user_tz": 0
    },
    "id": "EAlDigY2kqiK",
    "outputId": "e6ff84b5-d399-4b72-871b-9e5952076a85"
   },
   "outputs": [
    {
     "name": "stdout",
     "output_type": "stream",
     "text": [
      "{'name': 'ml_library', 'type': 'directory', 'content': [{'name': '__init__.py', 'type': 'file', 'description': 'Initialization code.', 'code': '# Python Script\\n\\nclass InitializationCode:\\n    \"\"\"\\n    Class for initialization code.\\n    \"\"\"\\n\\n    def __init__(self):\\n        \"\"\"\\n        Constructor for InitializationCode class.\\n        \"\"\"\\n        self.code = \"hi\"\\n\\n    def get_code(self):\\n        \"\"\"\\n        Method to get the initialization code.\\n        \\n        Returns:\\n            str: The initialization code.\\n        \"\"\"\\n        return self.code\\n\\n\\n# Unit Tests\\n\\ndef test_initialization_code():\\n    \"\"\"\\n    Function to test the InitializationCode class.\\n    \"\"\"\\n    init_code = InitializationCode()\\n    assert init_code.get_code() == \"hi\"\\n    print(\"Initialization code test passed.\")\\n\\n\\n# Running the unit tests\\nif __name__ == \"__main__\":\\n    test_initialization_code()'}, {'name': 'main.py', 'type': 'file', 'description': 'Main script to demonstrate linear regression and plotting functionality.', 'code': 'import numpy as np\\nimport matplotlib.pyplot as plt\\n\\ndef linear_regression(x, y):\\n    \"\"\"\\n    Perform linear regression on the given data points.\\n\\n    Parameters:\\n    x (array-like): Independent variable data points.\\n    y (array-like): Dependent variable data points.\\n\\n    Returns:\\n    tuple: Slope and intercept of the regression line.\\n    \"\"\"\\n    x_mean = np.mean(x)\\n    y_mean = np.mean(y)\\n\\n    numerator = np.sum((x - x_mean) * (y - y_mean))\\n    denominator = np.sum((x - x_mean) ** 2)\\n\\n    slope = numerator / denominator\\n    intercept = y_mean - slope * x_mean\\n\\n    return slope, intercept\\n\\ndef plot_regression_line(x, y, slope, intercept):\\n    \"\"\"\\n    Plot the regression line along with the data points.\\n\\n    Parameters:\\n    x (array-like): Independent variable data points.\\n    y (array-like): Dependent variable data points.\\n    slope (float): Slope of the regression line.\\n    intercept (float): Intercept of the regression line.\\n\\n    Returns:\\n    None\\n    \"\"\"\\n    plt.scatter(x, y, color=\\'b\\', label=\\'Data Points\\')\\n    plt.plot(x, slope * x + intercept, color=\\'r\\', label=\\'Regression Line\\')\\n    plt.xlabel(\\'X\\')\\n    plt.ylabel(\\'Y\\')\\n    plt.title(\\'Linear Regression\\')\\n    plt.legend()\\n    plt.show()\\n\\n# Unit tests\\ndef test_linear_regression():\\n    x = np.array([0, 1, 2, 3, 4])\\n    y = np.array([1, 3, 7, 9, 11])\\n    slope, intercept = linear_regression(x, y)\\n    assert np.isclose(slope, 2.4, atol=0.1)\\n    assert np.isclose(intercept, 1.2, atol=0.1)\\n\\ndef test_plot_regression_line():\\n    x = np.array([0, 1, 2, 3, 4])\\n    y = np.array([1, 3, 7, 9, 11])\\n    slope, intercept = linear_regression(x, y)\\n    plot_regression_line(x, y, slope, intercept)\\n\\nif __name__ == \"__main__\":\\n    x = np.array([0, 1, 2, 3, 4])\\n    y = np.array([1, 3, 7, 9, 11])\\n\\n    slope, intercept = linear_regression(x, y)\\n    print(f\"Slope: {slope}, Intercept: {intercept}\")\\n\\n    plot_regression_line(x, y, slope, intercept)'}, {'name': 'utils.py', 'type': 'file', 'description': 'Utility functions for linear regression and plotting.', 'functions': [{'name': 'linear_regression', 'description': 'Function to perform linear regression using numpy.', 'parameters': [{'name': 'X', 'type': 'numpy array', 'description': 'Input features'}, {'name': 'y', 'type': 'numpy array', 'description': 'Target values'}]}, {'name': 'plot_regression_line', 'description': 'Function to plot the regression line using matplotlib.', 'parameters': [{'name': 'X', 'type': 'numpy array', 'description': 'Input features'}, {'name': 'y', 'type': 'numpy array', 'description': 'Target values'}, {'name': 'slope', 'type': 'float', 'description': 'Slope of the regression line'}, {'name': 'intercept', 'type': 'float', 'description': 'Intercept of the regression line'}]}], 'code': '# utils.py\\n\\nimport numpy as np\\nimport matplotlib.pyplot as plt\\n\\ndef linear_regression(X, y):\\n    \"\"\"\\n    Function to perform linear regression using numpy.\\n\\n    Parameters:\\n    X (numpy array): Input features\\n    y (numpy array): Target values\\n\\n    Returns:\\n    slope (float): Slope of the regression line\\n    intercept (float): Intercept of the regression line\\n    \"\"\"\\n    slope, intercept = np.polyfit(X, y, 1)\\n    return slope, intercept\\n\\ndef plot_regression_line(X, y, slope, intercept):\\n    \"\"\"\\n    Function to plot the regression line using matplotlib.\\n\\n    Parameters:\\n    X (numpy array): Input features\\n    y (numpy array): Target values\\n    slope (float): Slope of the regression line\\n    intercept (float): Intercept of the regression line\\n    \"\"\"\\n    plt.scatter(X, y, color=\\'b\\', label=\\'Data points\\')\\n    plt.plot(X, slope*X + intercept, color=\\'r\\', label=\\'Regression line\\')\\n    plt.xlabel(\\'X\\')\\n    plt.ylabel(\\'y\\')\\n    plt.title(\\'Linear Regression\\')\\n    plt.legend()\\n    plt.show()\\n\\n# Unit tests\\ndef test_linear_regression():\\n    X = np.array([1, 2, 3, 4, 5])\\n    y = np.array([2, 3, 4, 5, 6])\\n    slope, intercept = linear_regression(X, y)\\n    assert round(slope, 2) == 1.00\\n    assert round(intercept, 2) == 1.00\\n\\ndef test_plot_regression_line():\\n    X = np.array([1, 2, 3, 4, 5])\\n    y = np.array([2, 3, 4, 5, 6])\\n    slope, intercept = 1.0, 1.0\\n    plot_regression_line(X, y, slope, intercept)\\n\\nif __name__ == \"__main__\":\\n    test_linear_regression()\\n    test_plot_regression_line()'}, {'name': 'config.json', 'type': 'file', 'description': 'Configuration file for the ML library.'}, {'name': 'README.md', 'type': 'file', 'description': 'Documentation for the ML library.'}]}\n"
     ]
    }
   ],
   "source": [
    "print(my_project) # my_project is now our output"
   ]
  },
  {
   "cell_type": "markdown",
   "metadata": {
    "id": "MO8Y7zY_pC8T"
   },
   "source": [
    "# Display the output"
   ]
  },
  {
   "cell_type": "code",
   "execution_count": null,
   "metadata": {
    "colab": {
     "base_uri": "https://localhost:8080/"
    },
    "executionInfo": {
     "elapsed": 220,
     "status": "ok",
     "timestamp": 1709424469747,
     "user": {
      "displayName": "Matthew Zhang",
      "userId": "02723002670783510319"
     },
     "user_tz": 0
    },
    "id": "j_3w6nejoRYM",
    "outputId": "a89645a0-1788-4411-8c5c-3ec465c550e3"
   },
   "outputs": [
    {
     "name": "stdout",
     "output_type": "stream",
     "text": [
      "├── ml_library/\n",
      "  ├── __init__.py\n",
      "  │   └── Initialization code.\n",
      "  │   └── Code:\n",
      "  │       ...\n",
      "  ├── main.py\n",
      "  │   └── Main script to demonstrate linear regression and plotting functionality.\n",
      "  │   └── Code:\n",
      "  │       ...\n",
      "  ├── utils.py\n",
      "  │   └── Utility functions for linear regression and plotting.\n",
      "  │   └── Code:\n",
      "  │       ...\n",
      "  ├── config.json\n",
      "  │   └── Configuration file for the ML library.\n",
      "  ├── README.md\n",
      "  │   └── Documentation for the ML library.\n"
     ]
    }
   ],
   "source": [
    "def display_tree(node, depth=0, verbose=True):\n",
    "    indent = \"  \" * depth\n",
    "    if node.get(\"type\") == \"directory\":\n",
    "        print(f\"{indent}├── {node['name']}/\")\n",
    "        if \"content\" in node:\n",
    "            for child in node[\"content\"][:-1]:\n",
    "                display_tree(child, depth + 1, verbose)\n",
    "            if node[\"content\"]:\n",
    "                display_tree(node[\"content\"][-1], depth + 1, verbose)\n",
    "    elif node.get(\"type\") == \"file\":\n",
    "        print(f\"{indent}├── {node['name']}\")\n",
    "        if \"description\" in node:\n",
    "            print(f\"{indent}│   └── {node['description']}\")\n",
    "        if \"code\" in node:\n",
    "            print(f\"{indent}│   └── Code:\")\n",
    "            if verbose:\n",
    "                for line in node[\"code\"].split('\\n'):\n",
    "                    print(f\"{indent}│       {line}\")\n",
    "            else:\n",
    "                print(f\"{indent}│       ...\")\n",
    "    else:\n",
    "        raise ValueError(f\"Unsupported node type: {node.get('type')}\")\n",
    "\n",
    "# Display the collapsible tree view with shortened code\n",
    "display_tree(my_project, verbose=False)\n"
   ]
  },
  {
   "cell_type": "code",
   "execution_count": null,
   "metadata": {
    "colab": {
     "base_uri": "https://localhost:8080/"
    },
    "executionInfo": {
     "elapsed": 206,
     "status": "ok",
     "timestamp": 1709425273932,
     "user": {
      "displayName": "Matthew Zhang",
      "userId": "02723002670783510319"
     },
     "user_tz": 0
    },
    "id": "6K16U9xUr5aT",
    "outputId": "58245453-e22c-4d6e-b415-596c3dd68d65"
   },
   "outputs": [
    {
     "name": "stdout",
     "output_type": "stream",
     "text": [
      "├── ml_library/\n",
      "  ├── __init__.py\n",
      "  │   └── Initialization code.\n",
      "  │   └── Code:\n",
      "  │       # Python Script\n",
      "  │       \n",
      "  │       class InitializationCode:\n",
      "  │           \"\"\"\n",
      "  │           Class for initialization code.\n",
      "  │           \"\"\"\n",
      "  │       \n",
      "  │           def __init__(self):\n",
      "  │               \"\"\"\n",
      "  │               Constructor for InitializationCode class.\n",
      "  │               \"\"\"\n",
      "  │               self.code = \"hi\"\n",
      "  │       \n",
      "  │           def get_code(self):\n",
      "  │               \"\"\"\n",
      "  │               Method to get the initialization code.\n",
      "  │               \n",
      "  │               Returns:\n",
      "  │                   str: The initialization code.\n",
      "  │               \"\"\"\n",
      "  │               return self.code\n",
      "  │       \n",
      "  │       \n",
      "  │       # Unit Tests\n",
      "  │       \n",
      "  │       def test_initialization_code():\n",
      "  │           \"\"\"\n",
      "  │           Function to test the InitializationCode class.\n",
      "  │           \"\"\"\n",
      "  │           init_code = InitializationCode()\n",
      "  │           assert init_code.get_code() == \"hi\"\n",
      "  │           print(\"Initialization code test passed.\")\n",
      "  │       \n",
      "  │       \n",
      "  │       # Running the unit tests\n",
      "  │       if __name__ == \"__main__\":\n",
      "  │           test_initialization_code()\n",
      "  ├── main.py\n",
      "  │   └── Main script to demonstrate linear regression and plotting functionality.\n",
      "  │   └── Code:\n",
      "  │       import numpy as np\n",
      "  │       import matplotlib.pyplot as plt\n",
      "  │       \n",
      "  │       def linear_regression(x, y):\n",
      "  │           \"\"\"\n",
      "  │           Perform linear regression on the given data points.\n",
      "  │       \n",
      "  │           Parameters:\n",
      "  │           x (array-like): Independent variable data points.\n",
      "  │           y (array-like): Dependent variable data points.\n",
      "  │       \n",
      "  │           Returns:\n",
      "  │           tuple: Slope and intercept of the regression line.\n",
      "  │           \"\"\"\n",
      "  │           x_mean = np.mean(x)\n",
      "  │           y_mean = np.mean(y)\n",
      "  │       \n",
      "  │           numerator = np.sum((x - x_mean) * (y - y_mean))\n",
      "  │           denominator = np.sum((x - x_mean) ** 2)\n",
      "  │       \n",
      "  │           slope = numerator / denominator\n",
      "  │           intercept = y_mean - slope * x_mean\n",
      "  │       \n",
      "  │           return slope, intercept\n",
      "  │       \n",
      "  │       def plot_regression_line(x, y, slope, intercept):\n",
      "  │           \"\"\"\n",
      "  │           Plot the regression line along with the data points.\n",
      "  │       \n",
      "  │           Parameters:\n",
      "  │           x (array-like): Independent variable data points.\n",
      "  │           y (array-like): Dependent variable data points.\n",
      "  │           slope (float): Slope of the regression line.\n",
      "  │           intercept (float): Intercept of the regression line.\n",
      "  │       \n",
      "  │           Returns:\n",
      "  │           None\n",
      "  │           \"\"\"\n",
      "  │           plt.scatter(x, y, color='b', label='Data Points')\n",
      "  │           plt.plot(x, slope * x + intercept, color='r', label='Regression Line')\n",
      "  │           plt.xlabel('X')\n",
      "  │           plt.ylabel('Y')\n",
      "  │           plt.title('Linear Regression')\n",
      "  │           plt.legend()\n",
      "  │           plt.show()\n",
      "  │       \n",
      "  │       # Unit tests\n",
      "  │       def test_linear_regression():\n",
      "  │           x = np.array([0, 1, 2, 3, 4])\n",
      "  │           y = np.array([1, 3, 7, 9, 11])\n",
      "  │           slope, intercept = linear_regression(x, y)\n",
      "  │           assert np.isclose(slope, 2.4, atol=0.1)\n",
      "  │           assert np.isclose(intercept, 1.2, atol=0.1)\n",
      "  │       \n",
      "  │       def test_plot_regression_line():\n",
      "  │           x = np.array([0, 1, 2, 3, 4])\n",
      "  │           y = np.array([1, 3, 7, 9, 11])\n",
      "  │           slope, intercept = linear_regression(x, y)\n",
      "  │           plot_regression_line(x, y, slope, intercept)\n",
      "  │       \n",
      "  │       if __name__ == \"__main__\":\n",
      "  │           x = np.array([0, 1, 2, 3, 4])\n",
      "  │           y = np.array([1, 3, 7, 9, 11])\n",
      "  │       \n",
      "  │           slope, intercept = linear_regression(x, y)\n",
      "  │           print(f\"Slope: {slope}, Intercept: {intercept}\")\n",
      "  │       \n",
      "  │           plot_regression_line(x, y, slope, intercept)\n",
      "  ├── utils.py\n",
      "  │   └── Utility functions for linear regression and plotting.\n",
      "  │   └── Code:\n",
      "  │       # utils.py\n",
      "  │       \n",
      "  │       import numpy as np\n",
      "  │       import matplotlib.pyplot as plt\n",
      "  │       \n",
      "  │       def linear_regression(X, y):\n",
      "  │           \"\"\"\n",
      "  │           Function to perform linear regression using numpy.\n",
      "  │       \n",
      "  │           Parameters:\n",
      "  │           X (numpy array): Input features\n",
      "  │           y (numpy array): Target values\n",
      "  │       \n",
      "  │           Returns:\n",
      "  │           slope (float): Slope of the regression line\n",
      "  │           intercept (float): Intercept of the regression line\n",
      "  │           \"\"\"\n",
      "  │           slope, intercept = np.polyfit(X, y, 1)\n",
      "  │           return slope, intercept\n",
      "  │       \n",
      "  │       def plot_regression_line(X, y, slope, intercept):\n",
      "  │           \"\"\"\n",
      "  │           Function to plot the regression line using matplotlib.\n",
      "  │       \n",
      "  │           Parameters:\n",
      "  │           X (numpy array): Input features\n",
      "  │           y (numpy array): Target values\n",
      "  │           slope (float): Slope of the regression line\n",
      "  │           intercept (float): Intercept of the regression line\n",
      "  │           \"\"\"\n",
      "  │           plt.scatter(X, y, color='b', label='Data points')\n",
      "  │           plt.plot(X, slope*X + intercept, color='r', label='Regression line')\n",
      "  │           plt.xlabel('X')\n",
      "  │           plt.ylabel('y')\n",
      "  │           plt.title('Linear Regression')\n",
      "  │           plt.legend()\n",
      "  │           plt.show()\n",
      "  │       \n",
      "  │       # Unit tests\n",
      "  │       def test_linear_regression():\n",
      "  │           X = np.array([1, 2, 3, 4, 5])\n",
      "  │           y = np.array([2, 3, 4, 5, 6])\n",
      "  │           slope, intercept = linear_regression(X, y)\n",
      "  │           assert round(slope, 2) == 1.00\n",
      "  │           assert round(intercept, 2) == 1.00\n",
      "  │       \n",
      "  │       def test_plot_regression_line():\n",
      "  │           X = np.array([1, 2, 3, 4, 5])\n",
      "  │           y = np.array([2, 3, 4, 5, 6])\n",
      "  │           slope, intercept = 1.0, 1.0\n",
      "  │           plot_regression_line(X, y, slope, intercept)\n",
      "  │       \n",
      "  │       if __name__ == \"__main__\":\n",
      "  │           test_linear_regression()\n",
      "  │           test_plot_regression_line()\n",
      "  ├── config.json\n",
      "  │   └── Configuration file for the ML library.\n",
      "  ├── README.md\n",
      "  │   └── Documentation for the ML library.\n"
     ]
    }
   ],
   "source": [
    "display_tree(my_project, verbose=True)"
   ]
  },
  {
   "cell_type": "markdown",
   "metadata": {
    "id": "vpaXI4kao4jv"
   },
   "source": [
    "# Incorporating Multi-agent system for code generation"
   ]
  }
 ],
 "metadata": {
  "colab": {
   "provenance": []
  },
  "kernelspec": {
   "display_name": "Python 3",
   "name": "python3"
  },
  "language_info": {
   "name": "python"
  }
 },
 "nbformat": 4,
 "nbformat_minor": 0
}
